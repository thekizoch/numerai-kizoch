{
  "nbformat": 4,
  "nbformat_minor": 0,
  "metadata": {
    "colab": {
      "name": "numerai-determine-trickle-in.ipynb",
      "provenance": [],
      "collapsed_sections": [],
      "toc_visible": true,
      "authorship_tag": "ABX9TyOEUBhagPVnH9XmaHPYXOtn",
      "include_colab_link": true
    },
    "kernelspec": {
      "name": "python3",
      "display_name": "Python 3"
    },
    "language_info": {
      "name": "python"
    }
  },
  "cells": [
    {
      "cell_type": "markdown",
      "metadata": {
        "id": "view-in-github",
        "colab_type": "text"
      },
      "source": [
        "<a href=\"https://colab.research.google.com/github/thekizoch/numerai-kizoch/blob/main/numerai_determine_trickle_in.ipynb\" target=\"_parent\"><img src=\"https://colab.research.google.com/assets/colab-badge.svg\" alt=\"Open In Colab\"/></a>"
      ]
    },
    {
      "cell_type": "markdown",
      "source": [
        "# setup"
      ],
      "metadata": {
        "id": "dMufZHmGZ3TK"
      }
    },
    {
      "cell_type": "markdown",
      "source": [
        "[![Open In Colab](https://colab.research.google.com/assets/colab-badge.svg)](https://colab.research.google.com/github/thekizoch/numerai-kizoch/blob/main/notebooks/numerai-determine-trickle-in.ipynb)"
      ],
      "metadata": {
        "id": "SbULAMxuZ5rC"
      }
    },
    {
      "cell_type": "code",
      "source": [
        "# dependencies\n",
        "!pip -q install --upgrade numerapi\n",
        "from numerapi import NumerAPI\n",
        "import pandas as pd\n",
        "import numpy as np\n",
        "import seaborn as sns"
      ],
      "metadata": {
        "id": "7K5yULNgvY5h"
      },
      "execution_count": 84,
      "outputs": []
    },
    {
      "cell_type": "code",
      "source": [
        "# initialize client\n",
        "secret_key = 'use yours'\n",
        "public_id = 'use yours'\n",
        "\n",
        "napi = NumerAPI(secret_key=secret_key,\n",
        "                public_id=public_id)"
      ],
      "metadata": {
        "id": "cid33vqsvsTp"
      },
      "execution_count": 149,
      "outputs": []
    },
    {
      "cell_type": "code",
      "source": [
        "# list of model names\n",
        "list_model_names = ['1_thekizoch', '1_v2_thekizoch', '3_thekizoch',]\n",
        "# define weekly trickle amount in NMR\n",
        "weekly_trickle = 40\n",
        "# define smoothing\n",
        "alpha = 0.8\n",
        "# define threshold of sharpe\n",
        "threshold_sharpe = 0.2\n",
        "# input multipliers for all models\n",
        "multiplier_corr = 1\n",
        "multiplier_mmc = 2\n",
        "# use sharpe ratio to weight model\n",
        "risk_weighted = True\n",
        "# past rounds to consider\n",
        "rounds_to_use = 20"
      ],
      "metadata": {
        "id": "H5IOQ2zZXZzU"
      },
      "execution_count": 141,
      "outputs": []
    },
    {
      "cell_type": "markdown",
      "source": [
        "# run"
      ],
      "metadata": {
        "id": "jC1JI1A9vPHx"
      }
    },
    {
      "cell_type": "code",
      "source": [
        "# empty list to hold scores\n",
        "l = []\n",
        "# empty list to hold sharpe ratio of weekly returns\n",
        "l_sharpe = []\n",
        "\n",
        "# load each model from list\n",
        "for model_name in list_model_names:\n",
        "  # load a single model\n",
        "  print(f'loading {model_name}')\n",
        "  dict_data = napi.round_model_performances(model_name)[0:rounds_to_use+3]\n",
        "  df = pd.DataFrame.from_dict(dict_data)\n",
        "\n",
        "  # keep essential rows for performance\n",
        "  df = pd.DataFrame.from_dict(dict_data)\n",
        "  df = df.loc[:,['corr','mmc','roundResolved','roundResolveTime']]\n",
        "  # drop unresolved rounds, reorder\n",
        "  df.drop(list(df.loc[df.roundResolved == False].index), inplace=True)\n",
        "  df.sort_values(by='roundResolveTime', inplace=True)\n",
        "  df.set_index('roundResolveTime', inplace=True)\n",
        "\n",
        "  # add payout multipliers\n",
        "  df['sum_corr_mmc_with_multipliers'] = df['corr']*multiplier_corr + df['mmc']*multiplier_mmc\n",
        "  # checks that there are more than 5 resolved rounds\n",
        "  if df.sum_corr_mmc_with_multipliers.notna().value_counts()[1] <= 5:\n",
        "    raise ValueError(f'There are 5 or less resolved rounds for {model_name}. Remove it')\n",
        "\n",
        "\n",
        "  # get smoothed score\n",
        "  s = df.ewm(alpha=alpha).mean()['sum_corr_mmc_with_multipliers']\n",
        "\n",
        "  l.append(s)\n",
        "  l_sharpe.append(s.mean()/s.std())"
      ],
      "metadata": {
        "colab": {
          "base_uri": "https://localhost:8080/"
        },
        "id": "YVJ2NMrky2UH",
        "outputId": "1580561e-050e-4002-f6fa-9f6e99180b06"
      },
      "execution_count": 142,
      "outputs": [
        {
          "output_type": "stream",
          "name": "stdout",
          "text": [
            "loading 1_thekizoch\n",
            "loading 1_v2_thekizoch\n",
            "loading 3_thekizoch\n"
          ]
        }
      ]
    },
    {
      "cell_type": "code",
      "source": [
        "# create frame of all smoothed scores\n",
        "ll = []\n",
        "for i, s in enumerate(l):\n",
        "  s = s.to_frame().rename(columns={'sum_corr_mmc_with_multipliers': \n",
        "                                   list_model_names[i]})\n",
        "  ll.append(s)\n",
        "  \n",
        "df = pd.concat(ll, axis=1)"
      ],
      "metadata": {
        "id": "Vu5J7xZel5hI"
      },
      "execution_count": 143,
      "outputs": []
    },
    {
      "cell_type": "markdown",
      "source": [
        "## separate winners from losers"
      ],
      "metadata": {
        "id": "qflIP5g9HoY6"
      }
    },
    {
      "cell_type": "code",
      "source": [
        "# gets winners above threshold\n",
        "winners = [df.columns[i] for i in range(len(l_sharpe)) if l_sharpe[i] > threshold_sharpe]\n",
        "# gets losers below threshold\n",
        "losers = list(set(df.columns) - set(winners))"
      ],
      "metadata": {
        "id": "Z6-e5lenOKOo"
      },
      "execution_count": 144,
      "outputs": []
    },
    {
      "cell_type": "code",
      "source": [
        "# define as frames\n",
        "df_winners = df[winners]\n",
        "df_losers = df[losers]"
      ],
      "metadata": {
        "id": "WpdQGxMnNyS0"
      },
      "execution_count": 145,
      "outputs": []
    },
    {
      "cell_type": "code",
      "source": [
        "# remove losers\n",
        "s_sharpe_winners = pd.Series(l_sharpe)\n",
        "s_sharpe_winners = s_sharpe_winners.loc[s_sharpe_winners > threshold_sharpe]\n",
        "s_sharpe_winners.index = df_winners.columns\n",
        "\n",
        "s_sharpe_winners"
      ],
      "metadata": {
        "colab": {
          "base_uri": "https://localhost:8080/"
        },
        "id": "mYWoWcNeS4UB",
        "outputId": "12d9c4c0-0f63-4e31-b36e-55b5de0024f3"
      },
      "execution_count": 146,
      "outputs": [
        {
          "output_type": "execute_result",
          "data": {
            "text/plain": [
              "1_thekizoch       1.463108\n",
              "1_v2_thekizoch    0.646301\n",
              "dtype: float64"
            ]
          },
          "metadata": {},
          "execution_count": 146
        }
      ]
    },
    {
      "cell_type": "code",
      "source": [
        "# calculate weights of trickle from performance of last round\n",
        "if risk_weighted == True:\n",
        "  print('risk weighting the performance of models')\n",
        "  s_weights = df_winners.iloc[-1] * s_sharpe_winners\n",
        "else:\n",
        "  print('not risk weighting the performance of models')\n",
        "  s_weights = df_winners.iloc[-1]\n",
        "  \n",
        "total = s_weights.sum()"
      ],
      "metadata": {
        "colab": {
          "base_uri": "https://localhost:8080/"
        },
        "id": "62FShRonSEmB",
        "outputId": "c3f05eaf-5767-4aa3-dce4-21ff415c0b0a"
      },
      "execution_count": 147,
      "outputs": [
        {
          "output_type": "stream",
          "name": "stdout",
          "text": [
            "risk weighting the performance of models\n"
          ]
        }
      ]
    },
    {
      "cell_type": "markdown",
      "source": [
        "## increase winner's stakes"
      ],
      "metadata": {
        "id": "0VrP5-HlNwJs"
      }
    },
    {
      "cell_type": "code",
      "source": [
        "# increase stake\n",
        "for model_name in winners:\n",
        "  model = napi.get_models()[model_name]\n",
        "  stake_increase = weekly_trickle * s_weights[model_name]/total\n",
        "  print(f'{stake_increase} NMR stake increase for model {model_name}')  \n",
        "  napi.stake_increase(stake_increase, model)"
      ],
      "metadata": {
        "id": "8uc02_aqLXer"
      },
      "execution_count": null,
      "outputs": []
    },
    {
      "cell_type": "markdown",
      "source": [
        "## TODO\n",
        "\n",
        "- drain loser's stake\n",
        "- automate stake management, weekly\n",
        "- use cloud run, with weekly scheduler calling it"
      ],
      "metadata": {
        "id": "hMp9qv9MvWIy"
      }
    }
  ]
}